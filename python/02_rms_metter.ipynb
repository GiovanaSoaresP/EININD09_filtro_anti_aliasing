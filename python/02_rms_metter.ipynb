{
  "nbformat": 4,
  "nbformat_minor": 0,
  "metadata": {
    "colab": {
      "provenance": [],
      "private_outputs": true
    },
    "kernelspec": {
      "name": "python3",
      "display_name": "Python 3"
    },
    "language_info": {
      "name": "python"
    }
  },
  "cells": [
    {
      "cell_type": "markdown",
      "source": [
        "# Nova seção"
      ],
      "metadata": {
        "id": "VLY1ZpP0oN77"
      }
    },
    {
      "cell_type": "markdown",
      "source": [
        "# Lição 04: RMS Metter"
      ],
      "metadata": {
        "id": "FdRH2VxeTID8"
      }
    },
    {
      "cell_type": "code",
      "source": [
        "from math import floor, sqrt\n",
        "from numpy import cos, sin, pi, absolute, array, arange, size, append, concatenate\n",
        "from pylab import subplots, figure, clf, plot, xlabel, ylabel, xlim, ylim, title, grid, axes, show, legend\n",
        "from scipy.signal import firwin, lfilter\n",
        "\n",
        "# Setup da Simulação\n",
        "GridFreq = 100 #Nominal Grid Frequency in Hz\n",
        "Fs       = 1000 #Sampling frequency = 1Khz\n",
        "Ts       = 1/Fs #Sampling Time = 1/Fs\n",
        "Tfinal   = 3.5 #Time the simulation\n",
        "t        = arange(3,Tfinal,Ts) #Simulation Time vector\n",
        "w        = 2*pi*GridFreq #Frequencia Angular\n",
        "# Gera pontos como se estivesse lendo tensões alternadas.\n",
        "u1,u2,u3,u4 = array([]), array([]), array([]), array([])\n",
        "for n in range(1,floor(size(t)/4)):\n",
        "  u1 = append(u1, 220*sqrt(2)*sin(w*(n*Ts))) #Pontos de 311.12\n",
        "  u2 = append(u2, 440*sqrt(2)*sin(w*(n*Ts))) #Pontos de 622.25\n",
        "  u3 = append(u3, 127*sqrt(2)*sin(w*(n*Ts))) #Pontos de 179.60\n",
        "  u4 = append(u4, 380*sqrt(2)*sin(w*(n*Ts))) #Pontos de 537.40\n",
        "\n",
        "supplyVoltage = concatenate((u1, u2, u3, u4))\n",
        "\n",
        "h = firwin(60, cutoff = 0.1, window = \"hamming\", pass_zero = True) # Filtro passa Baixa (fc = 0.1fs)\n",
        "# a = signal.firwin(n, cutoff = [0.2, 0.5], window = 'hanning', pass_zero = False) # Filtro Passa Faixa\n",
        "# a = signal.firwin(n, cutoff = [0.2, 0.5], window = 'hanning', pass_zero = True) # Filtro Rejeita Faixa\n",
        "# a = signal.firwin(n, cutoff = 0.3, window = \"hanning\", pass_zero=False) # Filtro Passa Alta\n",
        "rmsVoltage = lfilter(h,1,abs(supplyVoltage)) # Aplica o filtro sobre a entrada x resultando em y\n",
        "# Faz o ajuste a partir de uma calibração.\n",
        "VCAL_M = 1; VCAL_B = 100;\n",
        "V_RATIO = VCAL_M*rmsVoltage+VCAL_B;\n",
        "\n",
        "fig, ax = subplots(figsize=(20,6), facecolor='#DEDEDE')\n",
        "title(\"Calibração|Ajuste\");\n",
        "line1,line2 = ax.plot(t[:size(supplyVoltage)],supplyVoltage,'b',t[:size(supplyVoltage)],V_RATIO,'r',linewidth=3)\n",
        "legend([line1,line2],[\"AC_RET\",\"RMS\"]);\n",
        "xlabel('Tempo')\n",
        "ylabel('Amplitude')"
      ],
      "metadata": {
        "id": "yoyT88l6B5oW"
      },
      "execution_count": null,
      "outputs": []
    }
  ]
}